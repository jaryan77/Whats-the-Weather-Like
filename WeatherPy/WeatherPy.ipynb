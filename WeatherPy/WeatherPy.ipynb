{
 "cells": [
  {
   "cell_type": "markdown",
   "metadata": {},
   "source": [
    "# WeatherPy\n",
    "----\n",
    "\n",
    "#### Note\n",
    "* Instructions have been included for each segment. You do not have to follow them exactly, but they are included to help you think through the steps."
   ]
  },
  {
   "cell_type": "code",
   "execution_count": 1,
   "metadata": {
    "scrolled": true
   },
   "outputs": [],
   "source": [
    "# Dependencies and Setup\n",
    "import matplotlib.pyplot as plt\n",
    "import pandas as pd\n",
    "import numpy as np\n",
    "import requests\n",
    "import time\n",
    "from scipy.stats import linregress\n",
    "\n",
    "# Import API key\n",
    "from api_keys import weather_api_key\n",
    "\n",
    "# Incorporated citipy to determine city based on latitude and longitude\n",
    "from citipy import citipy\n",
    "\n",
    "# Output File (CSV)\n",
    "output_data_file = \"output_data/cities.csv\"\n",
    "\n",
    "# Range of latitudes and longitudes\n",
    "lat_range = (-90, 90)\n",
    "lng_range = (-180, 180)"
   ]
  },
  {
   "cell_type": "markdown",
   "metadata": {},
   "source": [
    "## Generate Cities List"
   ]
  },
  {
   "cell_type": "markdown",
   "metadata": {},
   "source": [
    "### Perform API Calls\n",
    "* Perform a weather check on each city using a series of successive API calls.\n",
    "* Include a print log of each city as it'sbeing processed (with the city number and city name).\n"
   ]
  },
  {
   "cell_type": "code",
   "execution_count": 2,
   "metadata": {},
   "outputs": [],
   "source": [
    "#Set up url and search url by calling into OpenWeatherMap\n",
    "url = \"http://api.openweathermap.org/data/2.5/weather?\"\n",
    "units = \"Imperial\"\n",
    "\n",
    "# Build partial query URL\n",
    "search_url = f\"{url}&units={units}&appid={weather_api_key}\" "
   ]
  },
  {
   "cell_type": "code",
   "execution_count": 3,
   "metadata": {},
   "outputs": [
    {
     "data": {
      "text/plain": [
       "603"
      ]
     },
     "execution_count": 3,
     "metadata": {},
     "output_type": "execute_result"
    }
   ],
   "source": [
    "# List for holding lat_lngs and cities\n",
    "lat_lngs = []\n",
    "cities = []\n",
    "latitudes = []\n",
    "longitudes = []\n",
    "\n",
    "# Create a set of random lat and lng combinations\n",
    "lats = np.random.uniform(lat_range[0], lat_range[1], size=1500)\n",
    "lngs = np.random.uniform(lng_range[0], lng_range[1], size=1500)\n",
    "lat_lngs = zip(lats, lngs)\n",
    "\n",
    "# Identify nearest city for each lat, lng combination\n",
    "for lat_lng in lat_lngs:\n",
    "    city = citipy.nearest_city(lat_lng[0], lat_lng[1]).city_name\n",
    "    \n",
    "    \n",
    "    # If the city is unique, then add it to a our cities list\n",
    "    if city not in cities:\n",
    "        cities.append(city)\n",
    "        latitudes.append(lat_lng[0])\n",
    "        longitudes.append(lat_lng[1])\n",
    "\n",
    "# Print the city count to confirm sufficient count\n",
    "len(cities)"
   ]
  },
  {
   "cell_type": "code",
   "execution_count": 4,
   "metadata": {},
   "outputs": [],
   "source": [
    "# dict = {\n",
    "#     \"City\": cities,\n",
    "#     \"Latitude\": latitudes,\n",
    "#     \"Longitude\": longitudes\n",
    "# }\n",
    "\n",
    "# city_df = pd.DataFrame(dict)\n",
    "# city_df.head()"
   ]
  },
  {
   "cell_type": "code",
   "execution_count": 5,
   "metadata": {
    "scrolled": true
   },
   "outputs": [
    {
     "name": "stdout",
     "output_type": "stream",
     "text": [
      "Beginning Data Retrieval     \n",
      "-----------------------------\n",
      "Processing Record 1 of Set 1 | hilo\n",
      "Processing Record 2 of Set 1 | vaini\n",
      "Processing Record 3 of Set 1 | kapaa\n",
      "Processing Record 4 of Set 1 | rikitea\n",
      "Processing Record 5 of Set 1 | caucaia\n",
      "Processing Record 6 of Set 1 | tasiilaq\n",
      "Processing Record 7 of Set 1 | punta arenas\n",
      "Processing Record 8 of Set 1 | busselton\n",
      "Processing Record 9 of Set 1 | cape town\n",
      "Processing Record 10 of Set 1 | luderitz\n",
      "Processing Record 11 of Set 1 | obihiro\n",
      "Processing Record 12 of Set 1 | mananjary\n",
      "Processing Record 13 of Set 1 | bage\n",
      "Processing Record 14 of Set 1 | dikson\n",
      "Processing Record 15 of Set 1 | dien bien\n",
      "City not found. Skipping...\n",
      "Processing Record 16 of Set 1 | bethel\n",
      "Processing Record 17 of Set 1 | lagoa\n",
      "Processing Record 18 of Set 1 | ixtapa\n",
      "Processing Record 19 of Set 1 | vila velha\n",
      "Processing Record 20 of Set 1 | vanimo\n",
      "Processing Record 21 of Set 1 | dovbysh\n",
      "Processing Record 22 of Set 1 | tuatapere\n",
      "Processing Record 23 of Set 1 | saint-philippe\n",
      "Processing Record 24 of Set 1 | albany\n",
      "Processing Record 25 of Set 1 | geraldton\n",
      "Processing Record 26 of Set 1 | krasnoselkup\n",
      "Processing Record 27 of Set 1 | taolanaro\n",
      "City not found. Skipping...\n",
      "Processing Record 28 of Set 1 | cidreira\n",
      "Processing Record 29 of Set 1 | kahului\n",
      "Processing Record 30 of Set 1 | presidencia roque saenz pena\n",
      "Processing Record 31 of Set 1 | barra\n",
      "Processing Record 32 of Set 1 | yellowknife\n",
      "Processing Record 33 of Set 1 | barentsburg\n",
      "City not found. Skipping...\n",
      "Processing Record 34 of Set 1 | cabo san lucas\n",
      "Processing Record 35 of Set 1 | fortuna\n",
      "Processing Record 36 of Set 1 | opuwo\n",
      "Processing Record 37 of Set 1 | cayenne\n",
      "Processing Record 38 of Set 1 | georgetown\n",
      "Processing Record 39 of Set 1 | mys shmidta\n",
      "City not found. Skipping...\n",
      "Processing Record 40 of Set 1 | kibala\n",
      "Processing Record 41 of Set 1 | hasaki\n",
      "Processing Record 42 of Set 1 | vanavara\n",
      "Processing Record 43 of Set 1 | mataura\n",
      "Processing Record 44 of Set 1 | aktanysh\n",
      "Processing Record 45 of Set 1 | sept-iles\n",
      "Processing Record 46 of Set 1 | kodiak\n",
      "Processing Record 47 of Set 1 | pevek\n",
      "Processing Record 48 of Set 1 | barcelos\n",
      "Processing Record 49 of Set 1 | hithadhoo\n",
      "Processing Record 50 of Set 1 | clacton-on-sea\n",
      "Processing Record 0 of Set 2 | butaritari\n",
      "Processing Record 1 of Set 2 | east london\n",
      "Processing Record 2 of Set 2 | taga\n",
      "Processing Record 3 of Set 2 | clyde river\n",
      "Processing Record 4 of Set 2 | qaanaaq\n",
      "Processing Record 5 of Set 2 | saskylakh\n",
      "Processing Record 6 of Set 2 | kazalinsk\n",
      "City not found. Skipping...\n",
      "Processing Record 7 of Set 2 | kaitangata\n",
      "Processing Record 8 of Set 2 | ushuaia\n",
      "Processing Record 9 of Set 2 | avarua\n",
      "Processing Record 10 of Set 2 | martapura\n",
      "Processing Record 11 of Set 2 | nguiu\n",
      "City not found. Skipping...\n",
      "Processing Record 12 of Set 2 | provideniya\n",
      "Processing Record 13 of Set 2 | salalah\n",
      "Processing Record 14 of Set 2 | kuminskiy\n",
      "Processing Record 15 of Set 2 | valparaiso\n",
      "Processing Record 16 of Set 2 | aasiaat\n",
      "Processing Record 17 of Set 2 | yulara\n",
      "Processing Record 18 of Set 2 | qasigiannguit\n",
      "Processing Record 19 of Set 2 | niimi\n",
      "Processing Record 20 of Set 2 | kalevala\n",
      "Processing Record 21 of Set 2 | bredasdorp\n",
      "Processing Record 22 of Set 2 | ponta do sol\n",
      "Processing Record 23 of Set 2 | puerto ayora\n",
      "Processing Record 24 of Set 2 | yar-sale\n",
      "Processing Record 25 of Set 2 | arraial do cabo\n",
      "Processing Record 26 of Set 2 | sao filipe\n",
      "Processing Record 27 of Set 2 | hermanus\n",
      "Processing Record 28 of Set 2 | nishihara\n",
      "Processing Record 29 of Set 2 | katsuura\n",
      "Processing Record 30 of Set 2 | los llanos de aridane\n",
      "Processing Record 31 of Set 2 | hobart\n",
      "Processing Record 32 of Set 2 | sorland\n",
      "Processing Record 33 of Set 2 | mar del plata\n",
      "Processing Record 34 of Set 2 | tazovskiy\n",
      "Processing Record 35 of Set 2 | thohoyandou\n",
      "Processing Record 36 of Set 2 | lovozero\n",
      "Processing Record 37 of Set 2 | nanortalik\n",
      "Processing Record 38 of Set 2 | ostrovnoy\n",
      "Processing Record 39 of Set 2 | sterling\n",
      "Processing Record 40 of Set 2 | iqaluit\n",
      "Processing Record 41 of Set 2 | thompson\n",
      "Processing Record 42 of Set 2 | saldanha\n",
      "Processing Record 43 of Set 2 | tuktoyaktuk\n",
      "Processing Record 44 of Set 2 | mpika\n",
      "Processing Record 45 of Set 2 | tanout\n",
      "Processing Record 46 of Set 2 | ceara-mirim\n",
      "City not found. Skipping...\n",
      "Processing Record 47 of Set 2 | okha\n",
      "Processing Record 48 of Set 2 | inhambane\n",
      "Processing Record 49 of Set 2 | anchorage\n",
      "Processing Record 0 of Set 3 | iquique\n",
      "Processing Record 1 of Set 3 | tommot\n",
      "Processing Record 2 of Set 3 | tongliao\n",
      "Processing Record 3 of Set 3 | longyearbyen\n",
      "Processing Record 4 of Set 3 | debre birhan\n",
      "Processing Record 5 of Set 3 | olean\n",
      "Processing Record 6 of Set 3 | san cristobal\n",
      "Processing Record 7 of Set 3 | thinadhoo\n",
      "Processing Record 8 of Set 3 | maniitsoq\n",
      "Processing Record 9 of Set 3 | carutapera\n",
      "Processing Record 10 of Set 3 | beringovskiy\n",
      "Processing Record 11 of Set 3 | cherskiy\n",
      "Processing Record 12 of Set 3 | chilliwack\n",
      "Processing Record 13 of Set 3 | deshna\n",
      "City not found. Skipping...\n",
      "Processing Record 14 of Set 3 | jamestown\n",
      "Processing Record 15 of Set 3 | naze\n",
      "Processing Record 16 of Set 3 | port alfred\n",
      "Processing Record 17 of Set 3 | hambantota\n",
      "Processing Record 18 of Set 3 | amderma\n",
      "City not found. Skipping...\n",
      "Processing Record 19 of Set 3 | darhan\n",
      "Processing Record 20 of Set 3 | satitoa\n",
      "City not found. Skipping...\n",
      "Processing Record 21 of Set 3 | lavrentiya\n",
      "Processing Record 22 of Set 3 | peniche\n",
      "Processing Record 23 of Set 3 | pokaran\n",
      "Processing Record 24 of Set 3 | bluff\n",
      "Processing Record 25 of Set 3 | vao\n",
      "Processing Record 26 of Set 3 | illoqqortoormiut\n",
      "City not found. Skipping...\n",
      "Processing Record 27 of Set 3 | tsihombe\n",
      "City not found. Skipping...\n",
      "Processing Record 28 of Set 3 | roald\n",
      "Processing Record 29 of Set 3 | mount gambier\n",
      "Processing Record 30 of Set 3 | dunedin\n",
      "Processing Record 31 of Set 3 | klaksvik\n",
      "Processing Record 32 of Set 3 | belushya guba\n",
      "City not found. Skipping...\n",
      "Processing Record 33 of Set 3 | chokurdakh\n",
      "Processing Record 34 of Set 3 | esperance\n",
      "Processing Record 35 of Set 3 | vestmannaeyjar\n",
      "Processing Record 36 of Set 3 | new norfolk\n",
      "Processing Record 37 of Set 3 | graaff-reinet\n",
      "Processing Record 38 of Set 3 | upernavik\n",
      "Processing Record 39 of Set 3 | lewistown\n",
      "Processing Record 40 of Set 3 | pangnirtung\n",
      "Processing Record 41 of Set 3 | byron bay\n",
      "Processing Record 42 of Set 3 | giyani\n",
      "Processing Record 43 of Set 3 | sayyan\n",
      "Processing Record 44 of Set 3 | la ciotat\n",
      "Processing Record 45 of Set 3 | bouza\n",
      "Processing Record 46 of Set 3 | hays\n",
      "Processing Record 47 of Set 3 | tessalit\n",
      "Processing Record 48 of Set 3 | agua dulce\n",
      "Processing Record 49 of Set 3 | umzimvubu\n",
      "City not found. Skipping...\n",
      "Processing Record 0 of Set 4 | nikolskoye\n",
      "Processing Record 1 of Set 4 | kalmunai\n",
      "Processing Record 2 of Set 4 | torbay\n",
      "Processing Record 3 of Set 4 | acatlan\n",
      "Processing Record 4 of Set 4 | moreira sales\n",
      "Processing Record 5 of Set 4 | ribeira grande\n",
      "Processing Record 6 of Set 4 | samusu\n",
      "City not found. Skipping...\n",
      "Processing Record 7 of Set 4 | soyo\n",
      "Processing Record 8 of Set 4 | nuuk\n",
      "Processing Record 9 of Set 4 | meadow lake\n",
      "Processing Record 10 of Set 4 | floirac\n",
      "Processing Record 11 of Set 4 | castro\n",
      "Processing Record 12 of Set 4 | carnarvon\n",
      "Processing Record 13 of Set 4 | san patricio\n",
      "Processing Record 14 of Set 4 | san quintin\n",
      "Processing Record 15 of Set 4 | airai\n",
      "Processing Record 16 of Set 4 | bambous virieux\n",
      "Processing Record 17 of Set 4 | san juan\n",
      "Processing Record 18 of Set 4 | bar harbor\n",
      "Processing Record 19 of Set 4 | bambanglipuro\n",
      "Processing Record 20 of Set 4 | aden\n",
      "Processing Record 21 of Set 4 | kavaratti\n",
      "Processing Record 22 of Set 4 | chingirlau\n",
      "Processing Record 23 of Set 4 | sungai pelek\n",
      "Processing Record 24 of Set 4 | aflu\n",
      "City not found. Skipping...\n",
      "Processing Record 25 of Set 4 | mogadishu\n",
      "Processing Record 26 of Set 4 | tiksi\n",
      "Processing Record 27 of Set 4 | mazyr\n",
      "Processing Record 28 of Set 4 | leningradskiy\n",
      "Processing Record 29 of Set 4 | khatanga\n",
      "Processing Record 30 of Set 4 | porto velho\n",
      "Processing Record 31 of Set 4 | kita\n",
      "Processing Record 32 of Set 4 | palatka\n",
      "Processing Record 33 of Set 4 | srivardhan\n",
      "Processing Record 34 of Set 4 | yuancheng\n",
      "Processing Record 35 of Set 4 | canitas\n",
      "City not found. Skipping...\n",
      "Processing Record 36 of Set 4 | lushunkou\n",
      "City not found. Skipping...\n",
      "Processing Record 37 of Set 4 | atuona\n"
     ]
    },
    {
     "name": "stdout",
     "output_type": "stream",
     "text": [
      "Processing Record 38 of Set 4 | kargasok\n",
      "Processing Record 39 of Set 4 | namibe\n",
      "Processing Record 40 of Set 4 | port macquarie\n",
      "Processing Record 41 of Set 4 | tambopata\n",
      "Processing Record 42 of Set 4 | kalemie\n",
      "Processing Record 43 of Set 4 | rio grande\n",
      "Processing Record 44 of Set 4 | faanui\n",
      "Processing Record 45 of Set 4 | broome\n",
      "Processing Record 46 of Set 4 | vaitupu\n",
      "City not found. Skipping...\n",
      "Processing Record 47 of Set 4 | korampallam\n",
      "Processing Record 48 of Set 4 | atar\n",
      "Processing Record 49 of Set 4 | labuan\n",
      "Processing Record 0 of Set 5 | mahebourg\n",
      "Processing Record 1 of Set 5 | najran\n",
      "Processing Record 2 of Set 5 | port hardy\n",
      "Processing Record 3 of Set 5 | kysyl-syr\n",
      "Processing Record 4 of Set 5 | victoria\n",
      "Processing Record 5 of Set 5 | lazo\n",
      "Processing Record 6 of Set 5 | lamu\n",
      "Processing Record 7 of Set 5 | santa cruz\n",
      "Processing Record 8 of Set 5 | tezu\n",
      "Processing Record 9 of Set 5 | roma\n",
      "Processing Record 10 of Set 5 | tsentoroy\n",
      "Processing Record 11 of Set 5 | pochutla\n",
      "Processing Record 12 of Set 5 | great yarmouth\n",
      "Processing Record 13 of Set 5 | souillac\n",
      "Processing Record 14 of Set 5 | ketchikan\n",
      "Processing Record 15 of Set 5 | blind river\n",
      "Processing Record 16 of Set 5 | isiro\n",
      "Processing Record 17 of Set 5 | xinye\n",
      "Processing Record 18 of Set 5 | ahipara\n",
      "Processing Record 19 of Set 5 | krutinka\n",
      "Processing Record 20 of Set 5 | poroina mare\n",
      "Processing Record 21 of Set 5 | sitka\n",
      "Processing Record 22 of Set 5 | burnie\n",
      "Processing Record 23 of Set 5 | half moon bay\n",
      "Processing Record 24 of Set 5 | puerto carreno\n",
      "Processing Record 25 of Set 5 | laguna\n",
      "Processing Record 26 of Set 5 | utiroa\n",
      "City not found. Skipping...\n",
      "Processing Record 27 of Set 5 | goderich\n",
      "Processing Record 28 of Set 5 | youghal\n",
      "Processing Record 29 of Set 5 | brindisi\n",
      "Processing Record 30 of Set 5 | honiara\n",
      "Processing Record 31 of Set 5 | grand river south east\n",
      "City not found. Skipping...\n",
      "Processing Record 32 of Set 5 | goianesia\n",
      "Processing Record 33 of Set 5 | danilovka\n",
      "Processing Record 34 of Set 5 | maldonado\n",
      "Processing Record 35 of Set 5 | pimentel\n",
      "Processing Record 36 of Set 5 | gamboula\n",
      "Processing Record 37 of Set 5 | karratha\n",
      "Processing Record 38 of Set 5 | sao joao del rei\n",
      "Processing Record 39 of Set 5 | state college\n",
      "Processing Record 40 of Set 5 | bolsheustikinskoye\n",
      "City not found. Skipping...\n",
      "Processing Record 41 of Set 5 | tura\n",
      "Processing Record 42 of Set 5 | sorvag\n",
      "City not found. Skipping...\n",
      "Processing Record 43 of Set 5 | srednekolymsk\n",
      "Processing Record 44 of Set 5 | asau\n",
      "Processing Record 45 of Set 5 | tarudant\n",
      "City not found. Skipping...\n",
      "Processing Record 46 of Set 5 | burica\n",
      "City not found. Skipping...\n",
      "Processing Record 47 of Set 5 | pleszew\n",
      "Processing Record 48 of Set 5 | nantucket\n",
      "Processing Record 49 of Set 5 | constitucion\n",
      "Processing Record 0 of Set 6 | port blair\n",
      "Processing Record 1 of Set 6 | balaipungut\n",
      "Processing Record 2 of Set 6 | north platte\n",
      "Processing Record 3 of Set 6 | diffa\n",
      "Processing Record 4 of Set 6 | turbat\n",
      "Processing Record 5 of Set 6 | swellendam\n",
      "Processing Record 6 of Set 6 | linhares\n",
      "Processing Record 7 of Set 6 | antofagasta\n",
      "Processing Record 8 of Set 6 | bandarbeyla\n",
      "Processing Record 9 of Set 6 | bam\n",
      "Processing Record 10 of Set 6 | kutum\n",
      "Processing Record 11 of Set 6 | salvador\n",
      "Processing Record 12 of Set 6 | caravelas\n",
      "Processing Record 13 of Set 6 | severo-kurilsk\n",
      "Processing Record 14 of Set 6 | jawhar\n",
      "Processing Record 15 of Set 6 | tiruvottiyur\n",
      "City not found. Skipping...\n",
      "Processing Record 16 of Set 6 | cockburn harbour\n",
      "City not found. Skipping...\n",
      "Processing Record 17 of Set 6 | miechow\n",
      "Processing Record 18 of Set 6 | kaeo\n",
      "Processing Record 19 of Set 6 | mbanza-ngungu\n",
      "Processing Record 20 of Set 6 | nivala\n",
      "Processing Record 21 of Set 6 | nicoya\n",
      "Processing Record 22 of Set 6 | vardo\n",
      "Processing Record 23 of Set 6 | fukue\n",
      "Processing Record 24 of Set 6 | barrow\n",
      "Processing Record 25 of Set 6 | bubaque\n",
      "Processing Record 26 of Set 6 | port lincoln\n",
      "Processing Record 27 of Set 6 | maxixe\n",
      "Processing Record 28 of Set 6 | belmonte\n",
      "Processing Record 29 of Set 6 | las margaritas\n",
      "Processing Record 30 of Set 6 | jacqueville\n",
      "Processing Record 31 of Set 6 | huelva\n",
      "Processing Record 32 of Set 6 | pisco\n",
      "Processing Record 33 of Set 6 | bonavista\n",
      "Processing Record 34 of Set 6 | xinzhou\n",
      "Processing Record 35 of Set 6 | nzega\n",
      "Processing Record 36 of Set 6 | jiuquan\n",
      "Processing Record 37 of Set 6 | saint george\n",
      "Processing Record 38 of Set 6 | attawapiskat\n",
      "City not found. Skipping...\n",
      "Processing Record 39 of Set 6 | sarkand\n",
      "Processing Record 40 of Set 6 | kourou\n",
      "Processing Record 41 of Set 6 | kruisfontein\n",
      "Processing Record 42 of Set 6 | korla\n",
      "Processing Record 43 of Set 6 | mount isa\n",
      "Processing Record 44 of Set 6 | ilulissat\n",
      "Processing Record 45 of Set 6 | grindavik\n",
      "Processing Record 46 of Set 6 | jieshi\n",
      "Processing Record 47 of Set 6 | kondinskoye\n",
      "Processing Record 48 of Set 6 | oum hadjer\n",
      "Processing Record 49 of Set 6 | jaicos\n",
      "Processing Record 0 of Set 7 | mehamn\n",
      "Processing Record 1 of Set 7 | kadipur\n",
      "Processing Record 2 of Set 7 | kosonsoy\n",
      "Processing Record 3 of Set 7 | tawang\n",
      "Processing Record 4 of Set 7 | harper\n",
      "Processing Record 5 of Set 7 | konya\n",
      "Processing Record 6 of Set 7 | rocha\n",
      "Processing Record 7 of Set 7 | arlit\n",
      "Processing Record 8 of Set 7 | mwinilunga\n",
      "Processing Record 9 of Set 7 | chuy\n",
      "Processing Record 10 of Set 7 | husavik\n",
      "Processing Record 11 of Set 7 | clarence town\n",
      "Processing Record 12 of Set 7 | marrakesh\n",
      "Processing Record 13 of Set 7 | aqtobe\n",
      "Processing Record 14 of Set 7 | nome\n",
      "Processing Record 15 of Set 7 | gigmoto\n",
      "Processing Record 16 of Set 7 | auki\n",
      "Processing Record 17 of Set 7 | ponta delgada\n",
      "Processing Record 18 of Set 7 | coihaique\n",
      "Processing Record 19 of Set 7 | znamenka\n",
      "Processing Record 20 of Set 7 | pandamatenga\n",
      "Processing Record 21 of Set 7 | sabang\n",
      "Processing Record 22 of Set 7 | la ronge\n",
      "Processing Record 23 of Set 7 | itarema\n",
      "Processing Record 24 of Set 7 | labuhan\n",
      "Processing Record 25 of Set 7 | shingu\n",
      "Processing Record 26 of Set 7 | mentok\n",
      "City not found. Skipping...\n",
      "Processing Record 27 of Set 7 | concordia\n",
      "Processing Record 28 of Set 7 | floresti\n",
      "Processing Record 29 of Set 7 | linxia\n",
      "Processing Record 30 of Set 7 | grootfontein\n",
      "Processing Record 31 of Set 7 | bathsheba\n",
      "Processing Record 32 of Set 7 | erenhot\n",
      "Processing Record 33 of Set 7 | saint anthony\n",
      "Processing Record 34 of Set 7 | san carlos de bariloche\n",
      "Processing Record 35 of Set 7 | warman\n",
      "Processing Record 36 of Set 7 | labutta\n",
      "City not found. Skipping...\n",
      "Processing Record 37 of Set 7 | sechura\n",
      "Processing Record 38 of Set 7 | lambarene\n",
      "Processing Record 39 of Set 7 | mabay\n",
      "Processing Record 40 of Set 7 | hamilton\n",
      "Processing Record 41 of Set 7 | puri\n",
      "Processing Record 42 of Set 7 | moindou\n",
      "Processing Record 43 of Set 7 | merrill\n",
      "Processing Record 44 of Set 7 | carbondale\n",
      "Processing Record 45 of Set 7 | preobrazheniye\n",
      "Processing Record 46 of Set 7 | raudeberg\n",
      "Processing Record 47 of Set 7 | petropavlovsk-kamchatskiy\n",
      "Processing Record 48 of Set 7 | zaranj\n",
      "Processing Record 49 of Set 7 | bahile\n",
      "Processing Record 0 of Set 8 | polyanka\n",
      "Processing Record 1 of Set 8 | petauke\n",
      "Processing Record 2 of Set 8 | odweyne\n",
      "Processing Record 3 of Set 8 | bengkulu\n",
      "Processing Record 4 of Set 8 | touros\n",
      "Processing Record 5 of Set 8 | boende\n",
      "Processing Record 6 of Set 8 | afonso bezerra\n",
      "Processing Record 7 of Set 8 | channagiri\n",
      "Processing Record 8 of Set 8 | portland\n",
      "Processing Record 9 of Set 8 | yining\n",
      "Processing Record 10 of Set 8 | bilibino\n",
      "Processing Record 11 of Set 8 | vila franca do campo\n",
      "Processing Record 12 of Set 8 | araouane\n",
      "Processing Record 13 of Set 8 | charagua\n",
      "Processing Record 14 of Set 8 | arman\n",
      "Processing Record 15 of Set 8 | nalut\n",
      "Processing Record 16 of Set 8 | viedma\n",
      "Processing Record 17 of Set 8 | lorengau\n",
      "Processing Record 18 of Set 8 | chilmari\n",
      "Processing Record 19 of Set 8 | pokosnoye\n",
      "Processing Record 20 of Set 8 | verkhnevilyuysk\n",
      "Processing Record 21 of Set 8 | wahiawa\n",
      "Processing Record 22 of Set 8 | deputatskiy\n",
      "Processing Record 23 of Set 8 | fort nelson\n",
      "Processing Record 24 of Set 8 | sahuaripa\n",
      "Processing Record 25 of Set 8 | potosi\n",
      "Processing Record 26 of Set 8 | abu samrah\n",
      "Processing Record 27 of Set 8 | awbari\n",
      "Processing Record 28 of Set 8 | sao joao da barra\n"
     ]
    },
    {
     "name": "stdout",
     "output_type": "stream",
     "text": [
      "Processing Record 29 of Set 8 | belyy yar\n",
      "Processing Record 30 of Set 8 | cairns\n",
      "Processing Record 31 of Set 8 | porbandar\n",
      "Processing Record 32 of Set 8 | zhangjiakou\n",
      "Processing Record 33 of Set 8 | kenai\n",
      "Processing Record 34 of Set 8 | zakamensk\n",
      "Processing Record 35 of Set 8 | olafsvik\n",
      "Processing Record 36 of Set 8 | sulangan\n",
      "Processing Record 37 of Set 8 | saint-augustin\n",
      "Processing Record 38 of Set 8 | toora-khem\n",
      "Processing Record 39 of Set 8 | casper\n",
      "Processing Record 40 of Set 8 | shaunavon\n",
      "Processing Record 41 of Set 8 | baykit\n",
      "Processing Record 42 of Set 8 | podgorica\n",
      "Processing Record 43 of Set 8 | lisakovsk\n",
      "Processing Record 44 of Set 8 | irbeyskoye\n",
      "Processing Record 45 of Set 8 | taoudenni\n",
      "Processing Record 46 of Set 8 | sobolevo\n",
      "Processing Record 47 of Set 8 | salinopolis\n",
      "Processing Record 48 of Set 8 | kushiro\n",
      "Processing Record 49 of Set 8 | shahrud\n",
      "Processing Record 0 of Set 9 | chapais\n",
      "Processing Record 1 of Set 9 | great bend\n",
      "Processing Record 2 of Set 9 | pingxiang\n",
      "Processing Record 3 of Set 9 | hobyo\n",
      "Processing Record 4 of Set 9 | muravlenko\n",
      "Processing Record 5 of Set 9 | saleaula\n",
      "City not found. Skipping...\n",
      "Processing Record 6 of Set 9 | acapulco\n",
      "Processing Record 7 of Set 9 | westport\n",
      "Processing Record 8 of Set 9 | dharchula\n",
      "Processing Record 9 of Set 9 | oranjemund\n",
      "Processing Record 10 of Set 9 | kuching\n",
      "Processing Record 11 of Set 9 | imbituba\n",
      "Processing Record 12 of Set 9 | ilhabela\n",
      "Processing Record 13 of Set 9 | palmer\n",
      "Processing Record 14 of Set 9 | santander jimenez\n",
      "Processing Record 15 of Set 9 | golden\n",
      "Processing Record 16 of Set 9 | bhag\n",
      "Processing Record 17 of Set 9 | fairview\n",
      "Processing Record 18 of Set 9 | manta\n",
      "Processing Record 19 of Set 9 | orocue\n",
      "Processing Record 20 of Set 9 | paamiut\n",
      "Processing Record 21 of Set 9 | sentyabrskiy\n",
      "City not found. Skipping...\n",
      "Processing Record 22 of Set 9 | rawson\n",
      "Processing Record 23 of Set 9 | kavieng\n",
      "Processing Record 24 of Set 9 | novopokrovka\n",
      "Processing Record 25 of Set 9 | berdigestyakh\n",
      "Processing Record 26 of Set 9 | terney\n",
      "Processing Record 27 of Set 9 | etzatlan\n",
      "Processing Record 28 of Set 9 | fria\n",
      "Processing Record 29 of Set 9 | fare\n",
      "Processing Record 30 of Set 9 | luanda\n",
      "Processing Record 31 of Set 9 | monte cristi\n",
      "City not found. Skipping...\n",
      "Processing Record 32 of Set 9 | dingle\n",
      "Processing Record 33 of Set 9 | guerrero negro\n",
      "Processing Record 34 of Set 9 | katsina\n",
      "Processing Record 35 of Set 9 | lompoc\n",
      "Processing Record 36 of Set 9 | mercedes\n",
      "Processing Record 37 of Set 9 | kapoeta\n",
      "Processing Record 38 of Set 9 | mahadday weyne\n",
      "City not found. Skipping...\n",
      "Processing Record 39 of Set 9 | coahuayana\n",
      "Processing Record 40 of Set 9 | banda aceh\n",
      "Processing Record 41 of Set 9 | wanxian\n",
      "Processing Record 42 of Set 9 | saint-georges\n",
      "Processing Record 43 of Set 9 | yunjinghong\n",
      "City not found. Skipping...\n",
      "Processing Record 44 of Set 9 | khromtau\n",
      "Processing Record 45 of Set 9 | marcona\n",
      "City not found. Skipping...\n",
      "Processing Record 46 of Set 9 | saint-leu\n",
      "Processing Record 47 of Set 9 | sao borja\n",
      "Processing Record 48 of Set 9 | koulikoro\n",
      "Processing Record 49 of Set 9 | tabiauea\n",
      "City not found. Skipping...\n",
      "Processing Record 0 of Set 10 | guane\n",
      "Processing Record 1 of Set 10 | noshiro\n",
      "Processing Record 2 of Set 10 | ondorhaan\n",
      "City not found. Skipping...\n",
      "Processing Record 3 of Set 10 | muli\n",
      "Processing Record 4 of Set 10 | padang\n",
      "Processing Record 5 of Set 10 | warqla\n",
      "City not found. Skipping...\n",
      "Processing Record 6 of Set 10 | ancud\n",
      "Processing Record 7 of Set 10 | lata\n",
      "Processing Record 8 of Set 10 | iquitos\n",
      "Processing Record 9 of Set 10 | kaohsiung\n",
      "Processing Record 10 of Set 10 | santa maria\n",
      "Processing Record 11 of Set 10 | inuvik\n",
      "Processing Record 12 of Set 10 | atasu\n",
      "Processing Record 13 of Set 10 | langfang\n",
      "Processing Record 14 of Set 10 | machaneng\n",
      "Processing Record 15 of Set 10 | usinsk\n",
      "Processing Record 16 of Set 10 | carlsbad\n",
      "Processing Record 17 of Set 10 | chiautla\n",
      "Processing Record 18 of Set 10 | conakry\n",
      "Processing Record 19 of Set 10 | kamenka\n",
      "Processing Record 20 of Set 10 | new glasgow\n",
      "Processing Record 21 of Set 10 | mezen\n",
      "Processing Record 22 of Set 10 | walvis bay\n",
      "Processing Record 23 of Set 10 | balykshi\n",
      "Processing Record 24 of Set 10 | coquimbo\n",
      "Processing Record 25 of Set 10 | kirakira\n",
      "Processing Record 26 of Set 10 | lahat\n",
      "Processing Record 27 of Set 10 | sisimiut\n",
      "Processing Record 28 of Set 10 | barahona\n",
      "Processing Record 29 of Set 10 | lillooet\n",
      "Processing Record 30 of Set 10 | ust-abakan\n",
      "Processing Record 31 of Set 10 | kerrville\n",
      "Processing Record 32 of Set 10 | condoto\n",
      "Processing Record 33 of Set 10 | broken hill\n",
      "Processing Record 34 of Set 10 | esil\n",
      "Processing Record 35 of Set 10 | matara\n",
      "Processing Record 36 of Set 10 | seguela\n",
      "Processing Record 37 of Set 10 | soe\n",
      "Processing Record 38 of Set 10 | camacha\n",
      "Processing Record 39 of Set 10 | wewak\n",
      "Processing Record 40 of Set 10 | yabrud\n",
      "Processing Record 41 of Set 10 | eureka\n",
      "Processing Record 42 of Set 10 | alofi\n",
      "Processing Record 43 of Set 10 | saint combs\n",
      "City not found. Skipping...\n",
      "Processing Record 44 of Set 10 | sinnamary\n",
      "Processing Record 45 of Set 10 | taltal\n",
      "Processing Record 46 of Set 10 | susanville\n",
      "Processing Record 47 of Set 10 | pecos\n",
      "Processing Record 48 of Set 10 | hokitika\n",
      "Processing Record 49 of Set 10 | mergui\n",
      "City not found. Skipping...\n",
      "Processing Record 0 of Set 11 | waipawa\n",
      "Processing Record 1 of Set 11 | smithers\n",
      "Processing Record 2 of Set 11 | fairbanks\n",
      "Processing Record 3 of Set 11 | samarai\n",
      "Processing Record 4 of Set 11 | yazman\n",
      "Processing Record 5 of Set 11 | praia da vitoria\n",
      "Processing Record 6 of Set 11 | fort saint john\n",
      "City not found. Skipping...\n",
      "Processing Record 7 of Set 11 | karpathos\n",
      "Processing Record 8 of Set 11 | zelenoborsk\n",
      "Processing Record 9 of Set 11 | zaysan\n",
      "Processing Record 10 of Set 11 | pouembout\n",
      "Processing Record 11 of Set 11 | charlestown\n",
      "Processing Record 12 of Set 11 | winton\n",
      "Processing Record 13 of Set 11 | yalova\n",
      "Processing Record 14 of Set 11 | noumea\n",
      "Processing Record 15 of Set 11 | mwaya\n",
      "Processing Record 16 of Set 11 | norman wells\n",
      "Processing Record 17 of Set 11 | maningrida\n",
      "Processing Record 18 of Set 11 | svarstad\n",
      "Processing Record 19 of Set 11 | bronnoysund\n",
      "Processing Record 20 of Set 11 | kaffrine\n",
      "Processing Record 21 of Set 11 | haines junction\n",
      "Processing Record 22 of Set 11 | riberalta\n",
      "Processing Record 23 of Set 11 | great falls\n",
      "Processing Record 24 of Set 11 | namatanai\n",
      "Processing Record 25 of Set 11 | togur\n",
      "Processing Record 26 of Set 11 | kawana waters\n",
      "City not found. Skipping...\n",
      "Processing Record 27 of Set 11 | chililabombwe\n",
      "Processing Record 28 of Set 11 | katiola\n",
      "Processing Record 29 of Set 11 | ust-omchug\n",
      "Processing Record 30 of Set 11 | skalistyy\n",
      "City not found. Skipping...\n",
      "Processing Record 31 of Set 11 | quatre cocos\n",
      "Processing Record 32 of Set 11 | debre tabor\n",
      "Processing Record 33 of Set 11 | adrar\n",
      "Processing Record 34 of Set 11 | jalu\n",
      "Processing Record 35 of Set 11 | chumikan\n",
      "Processing Record 36 of Set 11 | wadi maliz\n",
      "Processing Record 37 of Set 11 | chissamba\n",
      "Processing Record 38 of Set 11 | turukhansk\n",
      "Processing Record 39 of Set 11 | ilebo\n",
      "Processing Record 40 of Set 11 | caldas novas\n",
      "Processing Record 41 of Set 11 | donegal\n",
      "Processing Record 42 of Set 11 | masuguru\n",
      "Processing Record 43 of Set 11 | cabedelo\n",
      "Processing Record 44 of Set 11 | scarborough\n",
      "Processing Record 45 of Set 11 | kurilsk\n",
      "Processing Record 46 of Set 11 | saint-gabriel\n",
      "Processing Record 47 of Set 11 | zhigansk\n",
      "Processing Record 48 of Set 11 | dothan\n",
      "Processing Record 49 of Set 11 | lethem\n",
      "Processing Record 0 of Set 12 | iskateley\n",
      "Processing Record 1 of Set 12 | makat\n",
      "Processing Record 2 of Set 12 | karachi\n",
      "Processing Record 3 of Set 12 | ziro\n",
      "Processing Record 4 of Set 12 | saquarema\n",
      "Processing Record 5 of Set 12 | itoman\n",
      "Processing Record 6 of Set 12 | healesville\n",
      "Processing Record 7 of Set 12 | samalaeulu\n",
      "City not found. Skipping...\n",
      "Processing Record 8 of Set 12 | apac\n",
      "Processing Record 9 of Set 12 | jacareacanga\n",
      "Processing Record 10 of Set 12 | anadyr\n",
      "Processing Record 11 of Set 12 | buin\n",
      "Processing Record 12 of Set 12 | colares\n",
      "Processing Record 13 of Set 12 | waingapu\n",
      "Processing Record 14 of Set 12 | hami\n",
      "Processing Record 15 of Set 12 | douentza\n",
      "Processing Record 16 of Set 12 | mamou\n",
      "Processing Record 17 of Set 12 | riverton\n"
     ]
    },
    {
     "name": "stdout",
     "output_type": "stream",
     "text": [
      "Processing Record 18 of Set 12 | lebu\n",
      "Processing Record 19 of Set 12 | maloshuyka\n",
      "City not found. Skipping...\n",
      "Processing Record 20 of Set 12 | lewiston\n",
      "Processing Record 21 of Set 12 | college\n",
      "Processing Record 22 of Set 12 | bafq\n",
      "Processing Record 23 of Set 12 | xiaoweizhai\n",
      "Processing Record 24 of Set 12 | le port\n",
      "Processing Record 25 of Set 12 | carballo\n",
      "Processing Record 26 of Set 12 | bontang\n",
      "Processing Record 27 of Set 12 | dhidhdhoo\n",
      "Processing Record 28 of Set 12 | ust-nera\n",
      "Processing Record 29 of Set 12 | afmadu\n",
      "City not found. Skipping...\n",
      "Processing Record 30 of Set 12 | suntar\n",
      "Processing Record 31 of Set 12 | lolua\n",
      "City not found. Skipping...\n",
      "Processing Record 32 of Set 12 | nizhneyansk\n",
      "City not found. Skipping...\n",
      "Processing Record 33 of Set 12 | mocuba\n",
      "Processing Record 34 of Set 12 | isangel\n",
      "Processing Record 35 of Set 12 | mocambique\n",
      "City not found. Skipping...\n",
      "Processing Record 36 of Set 12 | xining\n",
      "Processing Record 37 of Set 12 | faya\n",
      "Processing Record 38 of Set 12 | rincon\n",
      "Processing Record 39 of Set 12 | vilyuysk\n",
      "Processing Record 40 of Set 12 | nata\n",
      "Processing Record 41 of Set 12 | misratah\n",
      "Processing Record 42 of Set 12 | krasnogorskoye\n",
      "Processing Record 43 of Set 12 | necochea\n",
      "Processing Record 44 of Set 12 | tsumeb\n",
      "Processing Record 45 of Set 12 | lodja\n",
      "Processing Record 46 of Set 12 | zunyi\n",
      "Processing Record 47 of Set 12 | yeppoon\n",
      "Processing Record 48 of Set 12 | anito\n",
      "Processing Record 49 of Set 12 | vallenar\n",
      "Processing Record 0 of Set 13 | kilindoni\n",
      "Processing Record 1 of Set 13 | juneau\n",
      "Processing Record 2 of Set 13 | khash\n",
      "-----------------------------\n",
      "Data Retrieval Complete      \n",
      "-----------------------------\n"
     ]
    }
   ],
   "source": [
    "#Perform API calls\n",
    "city_data = []\n",
    "\n",
    "print(\"Beginning Data Retrieval     \")\n",
    "print(\"-----------------------------\")\n",
    "\n",
    "record_count = 1\n",
    "set_count = 1\n",
    "\n",
    "#Loop through cities\n",
    "for i, city in enumerate(cities):\n",
    "    if (i % 50 == 0 and i >= 50):\n",
    "        set_count += 1\n",
    "        record_count = 0\n",
    "    \n",
    "    city_url = search_url + \"&q=\" + city\n",
    "    \n",
    "    print(\"Processing Record %s of Set %s | %s\" % (record_count, set_count, city))\n",
    "    \n",
    "    record_count += 1\n",
    "    \n",
    "    \n",
    "    try:\n",
    "        response = requests.get(city_url).json()\n",
    "        city_lat = response[\"coord\"][\"lat\"]\n",
    "        city_lng = response[\"coord\"][\"lon\"]\n",
    "        max_temp = response[\"main\"][\"temp_max\"]\n",
    "        city_humid = response[\"main\"][\"humidity\"]\n",
    "        city_cloud = response[\"clouds\"][\"all\"]\n",
    "        city_wind = response[\"wind\"][\"speed\"]\n",
    "        country = response[\"sys\"][\"country\"]\n",
    "        weather_date = response[\"dt\"]\n",
    "        \n",
    "        city_data.append({\"City\": city,\n",
    "                        \"Lat\": city_lat,\n",
    "                         \"Lng\" : city_lng,\n",
    "                         \"Max Temp\": max_temp,\n",
    "                         \"Humidity\": city_humid,\n",
    "                         \"Cloudiness\": city_cloud,\n",
    "                         \"Wind Speed\": city_wind,\n",
    "                         \"Country\": country,\n",
    "                         \"Date\": weather_date})\n",
    "\n",
    "    except:\n",
    "        print(\"City not found. Skipping...\")\n",
    "        pass\n",
    "\n",
    "print(\"-----------------------------\")\n",
    "print(\"Data Retrieval Complete      \")\n",
    "print(\"-----------------------------\")"
   ]
  },
  {
   "cell_type": "markdown",
   "metadata": {},
   "source": [
    "### Convert Raw Data to DataFrame\n",
    "* Export the city data into a .csv.\n",
    "* Display the DataFrame"
   ]
  },
  {
   "cell_type": "code",
   "execution_count": 6,
   "metadata": {},
   "outputs": [
    {
     "data": {
      "text/html": [
       "<div>\n",
       "<style scoped>\n",
       "    .dataframe tbody tr th:only-of-type {\n",
       "        vertical-align: middle;\n",
       "    }\n",
       "\n",
       "    .dataframe tbody tr th {\n",
       "        vertical-align: top;\n",
       "    }\n",
       "\n",
       "    .dataframe thead th {\n",
       "        text-align: right;\n",
       "    }\n",
       "</style>\n",
       "<table border=\"1\" class=\"dataframe\">\n",
       "  <thead>\n",
       "    <tr style=\"text-align: right;\">\n",
       "      <th></th>\n",
       "      <th>City</th>\n",
       "      <th>Lat</th>\n",
       "      <th>Lng</th>\n",
       "      <th>Max Temp</th>\n",
       "      <th>Humidity</th>\n",
       "      <th>Cloudiness</th>\n",
       "      <th>Wind Speed</th>\n",
       "      <th>Country</th>\n",
       "      <th>Date</th>\n",
       "    </tr>\n",
       "  </thead>\n",
       "  <tbody>\n",
       "    <tr>\n",
       "      <th>0</th>\n",
       "      <td>hilo</td>\n",
       "      <td>19.7297</td>\n",
       "      <td>-155.0900</td>\n",
       "      <td>73.40</td>\n",
       "      <td>60</td>\n",
       "      <td>20</td>\n",
       "      <td>4.61</td>\n",
       "      <td>US</td>\n",
       "      <td>1614747392</td>\n",
       "    </tr>\n",
       "    <tr>\n",
       "      <th>1</th>\n",
       "      <td>vaini</td>\n",
       "      <td>-21.2000</td>\n",
       "      <td>-175.2000</td>\n",
       "      <td>78.80</td>\n",
       "      <td>89</td>\n",
       "      <td>75</td>\n",
       "      <td>16.11</td>\n",
       "      <td>TO</td>\n",
       "      <td>1614747165</td>\n",
       "    </tr>\n",
       "    <tr>\n",
       "      <th>2</th>\n",
       "      <td>kapaa</td>\n",
       "      <td>22.0752</td>\n",
       "      <td>-159.3190</td>\n",
       "      <td>71.60</td>\n",
       "      <td>73</td>\n",
       "      <td>40</td>\n",
       "      <td>24.16</td>\n",
       "      <td>US</td>\n",
       "      <td>1614747392</td>\n",
       "    </tr>\n",
       "    <tr>\n",
       "      <th>3</th>\n",
       "      <td>rikitea</td>\n",
       "      <td>-23.1203</td>\n",
       "      <td>-134.9692</td>\n",
       "      <td>78.73</td>\n",
       "      <td>70</td>\n",
       "      <td>34</td>\n",
       "      <td>4.25</td>\n",
       "      <td>PF</td>\n",
       "      <td>1614747347</td>\n",
       "    </tr>\n",
       "    <tr>\n",
       "      <th>4</th>\n",
       "      <td>caucaia</td>\n",
       "      <td>-3.7361</td>\n",
       "      <td>-38.6531</td>\n",
       "      <td>82.00</td>\n",
       "      <td>83</td>\n",
       "      <td>20</td>\n",
       "      <td>10.36</td>\n",
       "      <td>BR</td>\n",
       "      <td>1614747393</td>\n",
       "    </tr>\n",
       "  </tbody>\n",
       "</table>\n",
       "</div>"
      ],
      "text/plain": [
       "      City      Lat       Lng  Max Temp  Humidity  Cloudiness  Wind Speed  \\\n",
       "0     hilo  19.7297 -155.0900     73.40        60          20        4.61   \n",
       "1    vaini -21.2000 -175.2000     78.80        89          75       16.11   \n",
       "2    kapaa  22.0752 -159.3190     71.60        73          40       24.16   \n",
       "3  rikitea -23.1203 -134.9692     78.73        70          34        4.25   \n",
       "4  caucaia  -3.7361  -38.6531     82.00        83          20       10.36   \n",
       "\n",
       "  Country        Date  \n",
       "0      US  1614747392  \n",
       "1      TO  1614747165  \n",
       "2      US  1614747392  \n",
       "3      PF  1614747347  \n",
       "4      BR  1614747393  "
      ]
     },
     "execution_count": 6,
     "metadata": {},
     "output_type": "execute_result"
    }
   ],
   "source": [
    "city_df = pd.DataFrame(city_data)\n",
    "city_df.head()"
   ]
  },
  {
   "cell_type": "markdown",
   "metadata": {},
   "source": [
    "## Inspect the data and remove the cities where the humidity > 100%.\n",
    "----\n",
    "Skip this step if there are no cities that have humidity > 100%. "
   ]
  },
  {
   "cell_type": "code",
   "execution_count": 7,
   "metadata": {},
   "outputs": [
    {
     "data": {
      "text/plain": [
       "City          553\n",
       "Lat           553\n",
       "Lng           553\n",
       "Max Temp      553\n",
       "Humidity      553\n",
       "Cloudiness    553\n",
       "Wind Speed    553\n",
       "Country       553\n",
       "Date          553\n",
       "dtype: int64"
      ]
     },
     "execution_count": 7,
     "metadata": {},
     "output_type": "execute_result"
    }
   ],
   "source": [
    "#Step could have been skipped -> same output for clean_city_data\n",
    "city_df.count()"
   ]
  },
  {
   "cell_type": "code",
   "execution_count": 8,
   "metadata": {},
   "outputs": [
    {
     "data": {
      "text/html": [
       "<div>\n",
       "<style scoped>\n",
       "    .dataframe tbody tr th:only-of-type {\n",
       "        vertical-align: middle;\n",
       "    }\n",
       "\n",
       "    .dataframe tbody tr th {\n",
       "        vertical-align: top;\n",
       "    }\n",
       "\n",
       "    .dataframe thead th {\n",
       "        text-align: right;\n",
       "    }\n",
       "</style>\n",
       "<table border=\"1\" class=\"dataframe\">\n",
       "  <thead>\n",
       "    <tr style=\"text-align: right;\">\n",
       "      <th></th>\n",
       "      <th>Lat</th>\n",
       "      <th>Lng</th>\n",
       "      <th>Max Temp</th>\n",
       "      <th>Humidity</th>\n",
       "      <th>Cloudiness</th>\n",
       "      <th>Wind Speed</th>\n",
       "      <th>Date</th>\n",
       "    </tr>\n",
       "  </thead>\n",
       "  <tbody>\n",
       "    <tr>\n",
       "      <th>count</th>\n",
       "      <td>553.000000</td>\n",
       "      <td>553.000000</td>\n",
       "      <td>553.000000</td>\n",
       "      <td>553.000000</td>\n",
       "      <td>553.000000</td>\n",
       "      <td>553.000000</td>\n",
       "      <td>5.530000e+02</td>\n",
       "    </tr>\n",
       "    <tr>\n",
       "      <th>mean</th>\n",
       "      <td>19.538000</td>\n",
       "      <td>14.842683</td>\n",
       "      <td>51.428626</td>\n",
       "      <td>71.967450</td>\n",
       "      <td>49.301989</td>\n",
       "      <td>8.184792</td>\n",
       "      <td>1.614747e+09</td>\n",
       "    </tr>\n",
       "    <tr>\n",
       "      <th>std</th>\n",
       "      <td>33.515018</td>\n",
       "      <td>90.234723</td>\n",
       "      <td>29.561328</td>\n",
       "      <td>21.776925</td>\n",
       "      <td>39.266106</td>\n",
       "      <td>5.999746</td>\n",
       "      <td>9.560533e+01</td>\n",
       "    </tr>\n",
       "    <tr>\n",
       "      <th>min</th>\n",
       "      <td>-54.800000</td>\n",
       "      <td>-175.200000</td>\n",
       "      <td>-36.260000</td>\n",
       "      <td>7.000000</td>\n",
       "      <td>0.000000</td>\n",
       "      <td>0.250000</td>\n",
       "      <td>1.614747e+09</td>\n",
       "    </tr>\n",
       "    <tr>\n",
       "      <th>25%</th>\n",
       "      <td>-8.767600</td>\n",
       "      <td>-63.216700</td>\n",
       "      <td>32.000000</td>\n",
       "      <td>61.000000</td>\n",
       "      <td>2.000000</td>\n",
       "      <td>3.650000</td>\n",
       "      <td>1.614747e+09</td>\n",
       "    </tr>\n",
       "    <tr>\n",
       "      <th>50%</th>\n",
       "      <td>22.813400</td>\n",
       "      <td>19.234500</td>\n",
       "      <td>60.490000</td>\n",
       "      <td>77.000000</td>\n",
       "      <td>43.000000</td>\n",
       "      <td>6.910000</td>\n",
       "      <td>1.614747e+09</td>\n",
       "    </tr>\n",
       "    <tr>\n",
       "      <th>75%</th>\n",
       "      <td>47.500200</td>\n",
       "      <td>91.866700</td>\n",
       "      <td>75.160000</td>\n",
       "      <td>89.000000</td>\n",
       "      <td>90.000000</td>\n",
       "      <td>10.870000</td>\n",
       "      <td>1.614747e+09</td>\n",
       "    </tr>\n",
       "    <tr>\n",
       "      <th>max</th>\n",
       "      <td>78.218600</td>\n",
       "      <td>179.316700</td>\n",
       "      <td>104.000000</td>\n",
       "      <td>100.000000</td>\n",
       "      <td>100.000000</td>\n",
       "      <td>36.820000</td>\n",
       "      <td>1.614747e+09</td>\n",
       "    </tr>\n",
       "  </tbody>\n",
       "</table>\n",
       "</div>"
      ],
      "text/plain": [
       "              Lat         Lng    Max Temp    Humidity  Cloudiness  Wind Speed  \\\n",
       "count  553.000000  553.000000  553.000000  553.000000  553.000000  553.000000   \n",
       "mean    19.538000   14.842683   51.428626   71.967450   49.301989    8.184792   \n",
       "std     33.515018   90.234723   29.561328   21.776925   39.266106    5.999746   \n",
       "min    -54.800000 -175.200000  -36.260000    7.000000    0.000000    0.250000   \n",
       "25%     -8.767600  -63.216700   32.000000   61.000000    2.000000    3.650000   \n",
       "50%     22.813400   19.234500   60.490000   77.000000   43.000000    6.910000   \n",
       "75%     47.500200   91.866700   75.160000   89.000000   90.000000   10.870000   \n",
       "max     78.218600  179.316700  104.000000  100.000000  100.000000   36.820000   \n",
       "\n",
       "               Date  \n",
       "count  5.530000e+02  \n",
       "mean   1.614747e+09  \n",
       "std    9.560533e+01  \n",
       "min    1.614747e+09  \n",
       "25%    1.614747e+09  \n",
       "50%    1.614747e+09  \n",
       "75%    1.614747e+09  \n",
       "max    1.614747e+09  "
      ]
     },
     "execution_count": 8,
     "metadata": {},
     "output_type": "execute_result"
    }
   ],
   "source": [
    "city_df.describe()"
   ]
  },
  {
   "cell_type": "code",
   "execution_count": 9,
   "metadata": {},
   "outputs": [
    {
     "data": {
      "text/plain": [
       "Int64Index([], dtype='int64')"
      ]
     },
     "execution_count": 9,
     "metadata": {},
     "output_type": "execute_result"
    }
   ],
   "source": [
    "#  Get the indices of cities that have humidity over 100%.\n",
    "humid_df = city_df[city_df[\"Humidity\"] > 100].index\n",
    "humid_df"
   ]
  },
  {
   "cell_type": "code",
   "execution_count": 10,
   "metadata": {},
   "outputs": [],
   "source": [
    "# Make a new DataFrame equal to the city data to drop all humidity outliers by index.\n",
    "# Passing \"inplace=False\" will make a copy of the city_data DataFrame, which we call \"clean_city_data\".\n",
    "clean_city_data = city_df.drop(humid_df, inplace=False)\n",
    "clean_city_data.to_csv(\"output_data/cities.csv\")"
   ]
  },
  {
   "cell_type": "markdown",
   "metadata": {},
   "source": [
    "## Plotting the Data\n",
    "* Use proper labeling of the plots using plot titles (including date of analysis) and axes labels.\n",
    "* Save the plotted figures as .pngs."
   ]
  },
  {
   "cell_type": "markdown",
   "metadata": {},
   "source": [
    "## Latitude vs. Temperature Plot"
   ]
  },
  {
   "cell_type": "code",
   "execution_count": 11,
   "metadata": {},
   "outputs": [
    {
     "data": {
      "image/png": "[encoded data removed]",
      "text/plain": [
       "<Figure size 432x288 with 1 Axes>"
      ]
     },
     "metadata": {
      "needs_background": "light"
     },
     "output_type": "display_data"
    }
   ],
   "source": [
    "#x = clean_city_data[\"Lat\"]\n",
    "#y = clean_city_data[\"Max Temp\"]\n",
    "\n",
    "plt.scatter(clean_city_data[\"Lat\"],clean_city_data[\"Max Temp\"])#, marker=\"o\", mfc='blue', mec= 'black', mew=\"0.5\")\n",
    "plt.ylabel(\"Max Temperature (F)\")\n",
    "plt.xlabel(\"Latitude\")\n",
    "plt.title(\"City Latitude vs. Temperature (%s)\" % time.strftime(\"%x\"))\n",
    "plt.grid(True)#, markeredgecolor=\"black\", markeredgewidth=\"0.5\")\n",
    "plt.savefig(\"output_data/lat_vs_temp.png\")\n",
    "plt.show()"
   ]
  },
  {
   "cell_type": "markdown",
   "metadata": {},
   "source": [
    "## Latitude vs. Humidity Plot"
   ]
  },
  {
   "cell_type": "code",
   "execution_count": 12,
   "metadata": {},
   "outputs": [
    {
     "data": {
      "image/png": "[encoded data removed]",
      "text/plain": [
       "<Figure size 432x288 with 1 Axes>"
      ]
     },
     "metadata": {
      "needs_background": "light"
     },
     "output_type": "display_data"
    }
   ],
   "source": [
    "plt.scatter(clean_city_data[\"Lat\"],clean_city_data[\"Humidity\"])#, markeredgecolor=k, markeredgewidth=\"0.5\"\n",
    "plt.ylabel(\"Humidity (%)\")\n",
    "plt.xlabel(\"Latitude\")\n",
    "plt.title(\"City Latitude vs. Humidity (%s)\" % time.strftime(\"%x\"))\n",
    "plt.grid(True)\n",
    "plt.savefig(\"output_data/lat_vs_humidity.png\")\n",
    "plt.show()"
   ]
  },
  {
   "cell_type": "markdown",
   "metadata": {},
   "source": [
    "## Latitude vs. Cloudiness Plot"
   ]
  },
  {
   "cell_type": "code",
   "execution_count": 13,
   "metadata": {},
   "outputs": [
    {
     "data": {
      "image/png": "[encoded data removed]",
      "text/plain": [
       "<Figure size 432x288 with 1 Axes>"
      ]
     },
     "metadata": {
      "needs_background": "light"
     },
     "output_type": "display_data"
    }
   ],
   "source": [
    "plt.scatter(clean_city_data[\"Lat\"],clean_city_data[\"Cloudiness\"])#, markeredgecolor=k, markeredgewidth=\"0.5\")\n",
    "plt.ylabel(\"Cloudiness (%)\")\n",
    "plt.xlabel(\"Latitude\")\n",
    "plt.title(\"City Latitude vs. Cloudiness (%s)\" % time.strftime(\"%x\"))\n",
    "plt.grid(True)\n",
    "plt.savefig(\"output_data/lat_vs_cloudiness.png\")\n",
    "plt.show()"
   ]
  },
  {
   "cell_type": "markdown",
   "metadata": {},
   "source": [
    "## Latitude vs. Wind Speed Plot"
   ]
  },
  {
   "cell_type": "code",
   "execution_count": 14,
   "metadata": {},
   "outputs": [
    {
     "data": {
      "image/png": "[encoded data removed]",
      "text/plain": [
       "<Figure size 432x288 with 1 Axes>"
      ]
     },
     "metadata": {
      "needs_background": "light"
     },
     "output_type": "display_data"
    }
   ],
   "source": [
    "plt.scatter(clean_city_data[\"Lat\"],clean_city_data[\"Wind Speed\"])#, markeredgecolor=k, markeredgewidth=\"0.5\")\n",
    "plt.ylabel(\"Wind Speed (%)\")\n",
    "plt.xlabel(\"Latitude\")\n",
    "plt.title(\"City Latitude vs. Wind Speed (%s)\" % time.strftime(\"%x\"))\n",
    "plt.grid(True)\n",
    "plt.savefig(\"output_data/lat_vs_windspeed.png\")\n",
    "plt.show()"
   ]
  },
  {
   "cell_type": "markdown",
   "metadata": {},
   "source": [
    "## Linear Regression"
   ]
  },
  {
   "cell_type": "code",
   "execution_count": 15,
   "metadata": {},
   "outputs": [],
   "source": [
    "#Create dataframes for cities in northern and southern hemispheres\n",
    "\n",
    "north_hemi_df = clean_city_data[clean_city_data[\"Lat\"] > 0]\n",
    "\n",
    "south_hemi_df = clean_city_data[clean_city_data[\"Lat\"] < 0]\n"
   ]
  },
  {
   "cell_type": "markdown",
   "metadata": {},
   "source": [
    "####  Northern Hemisphere - Max Temp vs. Latitude Linear Regression"
   ]
  },
  {
   "cell_type": "code",
   "execution_count": 16,
   "metadata": {},
   "outputs": [
    {
     "name": "stdout",
     "output_type": "stream",
     "text": [
      "The r-value is:\n",
      "-0.8857412418780307\n"
     ]
    },
    {
     "data": {
      "image/png": "[encoded data removed]",
      "text/plain": [
       "<Figure size 432x288 with 1 Axes>"
      ]
     },
     "metadata": {
      "needs_background": "light"
     },
     "output_type": "display_data"
    }
   ],
   "source": [
    "#Create linear regression to print on plot (need linregress from scipy.stats)\n",
    "(slope, intercept, rvalue, pvalue, stderr) = linregress(north_hemi_df[\"Lat\"], north_hemi_df[\"Max Temp\"])\n",
    "regress_values = north_hemi_df[\"Lat\"] * slope + intercept\n",
    "line_eq = \"y = \" + str(round(slope,2)) + \"x + \" + str(round(intercept,2))\n",
    "\n",
    "#Print r-value >>>>>>>>>>>>>> figure out print formatting\n",
    "print(\"The r-value is:\")\n",
    "print(rvalue)\n",
    "\n",
    "#Annotate LR, create labels, then print scatter plot w/ linear regress equation\n",
    "plt.scatter(north_hemi_df[\"Lat\"], north_hemi_df[\"Max Temp\"])\n",
    "plt.plot(north_hemi_df[\"Lat\"], regress_values, \"r-\")\n",
    "plt.annotate(line_eq,(10,-20),fontsize=15,color=\"red\")\n",
    "plt.xlabel(\"Latitude\")\n",
    "plt.ylabel(\"Max Temp (F)\")\n",
    "plt.title(\"Northern Hemisphere Cities Latitude vs. Max Temp (%s)\" % time.strftime(\"%x\"))\n",
    "plt.savefig(\"output_data/north_lat_vs_maxtemp.png\")\n",
    "plt.show()"
   ]
  },
  {
   "cell_type": "markdown",
   "metadata": {},
   "source": [
    "####  Southern Hemisphere - Max Temp vs. Latitude Linear Regression"
   ]
  },
  {
   "cell_type": "code",
   "execution_count": 17,
   "metadata": {},
   "outputs": [
    {
     "name": "stdout",
     "output_type": "stream",
     "text": [
      "The r-value is:\n",
      "0.48520250467077547\n"
     ]
    },
    {
     "data": {
      "image/png": "[encoded data removed]",
      "text/plain": [
       "<Figure size 432x288 with 1 Axes>"
      ]
     },
     "metadata": {
      "needs_background": "light"
     },
     "output_type": "display_data"
    }
   ],
   "source": [
    "#Create linear regression to print on plot (need linregress from scipy.stats)\n",
    "(slope, intercept, rvalue, pvalue, stderr) = linregress(south_hemi_df[\"Lat\"], south_hemi_df[\"Max Temp\"])\n",
    "regress_values = south_hemi_df[\"Lat\"] * slope + intercept\n",
    "line_eq = \"y = \" + str(round(slope,2)) + \"x + \" + str(round(intercept,2))\n",
    "\n",
    "#Print r-value >>>>>>>>>>>>>> figure out print formatting\n",
    "print(\"The r-value is:\")\n",
    "print(rvalue)\n",
    "\n",
    "#Annotate LR, create labels, then print scatter plot w/ linear regress equation\n",
    "plt.scatter(south_hemi_df[\"Lat\"], south_hemi_df[\"Max Temp\"])\n",
    "plt.plot(south_hemi_df[\"Lat\"], regress_values, \"r-\")\n",
    "plt.annotate(line_eq,(-30,50),fontsize=15,color=\"red\")\n",
    "plt.xlabel(\"Latitude\")\n",
    "plt.ylabel(\"Max Temp (F)\")\n",
    "plt.title(\"Southern Hemisphere Cities Latitude vs. Max Temp (%s)\" % time.strftime(\"%x\"))\n",
    "plt.savefig(\"output_data/south_lat_vs_maxtemp.png\")\n",
    "plt.show()"
   ]
  },
  {
   "cell_type": "code",
   "execution_count": 18,
   "metadata": {},
   "outputs": [],
   "source": [
    "#Southern Hemi Lat vs Max Temp starter data"
   ]
  },
  {
   "cell_type": "markdown",
   "metadata": {},
   "source": [
    "####  Northern Hemisphere - Humidity (%) vs. Latitude Linear Regression"
   ]
  },
  {
   "cell_type": "code",
   "execution_count": 19,
   "metadata": {},
   "outputs": [
    {
     "name": "stdout",
     "output_type": "stream",
     "text": [
      "The r-value is:\n",
      "0.41271202855223554\n"
     ]
    },
    {
     "data": {
      "image/png": "[encoded data removed]",
      "text/plain": [
       "<Figure size 432x288 with 1 Axes>"
      ]
     },
     "metadata": {
      "needs_background": "light"
     },
     "output_type": "display_data"
    }
   ],
   "source": [
    "#Create linear regression to print on plot (need linregress from scipy.stats)\n",
    "(slope, intercept, rvalue, pvalue, stderr) = linregress(north_hemi_df[\"Lat\"], north_hemi_df[\"Humidity\"])\n",
    "regress_values = north_hemi_df[\"Lat\"] * slope + intercept\n",
    "line_eq = \"y = \" + str(round(slope,2)) + \"x + \" + str(round(intercept,2))\n",
    "\n",
    "#Print r-value >>>>>>>>>>>>>> figure out print formatting\n",
    "print(\"The r-value is:\")\n",
    "print(rvalue)\n",
    "\n",
    "#Annotate LR, create labels, then print scatter plot w/ linear regress equation\n",
    "plt.scatter(north_hemi_df[\"Lat\"], north_hemi_df[\"Humidity\"])\n",
    "plt.plot(north_hemi_df[\"Lat\"], regress_values, \"r-\")\n",
    "plt.annotate(line_eq,(42,37),fontsize=15,color=\"red\")\n",
    "plt.xlabel(\"Latitude\")\n",
    "plt.ylabel(\"Humidity (%)\")\n",
    "plt.title(\"Northern Hemisphere Cities Latitude vs. Humidity (%s)\" % time.strftime(\"%x\"))\n",
    "plt.savefig(\"output_data/north_lat_vs_humidity.png\")\n",
    "plt.show()"
   ]
  },
  {
   "cell_type": "code",
   "execution_count": 20,
   "metadata": {},
   "outputs": [],
   "source": [
    "#North Hemi Lat vs Humidity starter data"
   ]
  },
  {
   "cell_type": "markdown",
   "metadata": {},
   "source": [
    "####  Southern Hemisphere - Humidity (%) vs. Latitude Linear Regression"
   ]
  },
  {
   "cell_type": "code",
   "execution_count": 21,
   "metadata": {},
   "outputs": [
    {
     "name": "stdout",
     "output_type": "stream",
     "text": [
      "The r-value is:\n",
      "0.19761421961862238\n"
     ]
    },
    {
     "data": {
      "image/png": "[encoded data removed]",
      "text/plain": [
       "<Figure size 432x288 with 1 Axes>"
      ]
     },
     "metadata": {
      "needs_background": "light"
     },
     "output_type": "display_data"
    }
   ],
   "source": [
    "#Create linear regression to print on plot (need linregress from scipy.stats)\n",
    "(slope, intercept, rvalue, pvalue, stderr) = linregress(south_hemi_df[\"Lat\"], south_hemi_df[\"Humidity\"])\n",
    "regress_values = south_hemi_df[\"Lat\"] * slope + intercept\n",
    "line_eq = \"y = \" + str(round(slope,2)) + \"x + \" + str(round(intercept,2))\n",
    "\n",
    "#Print r-value >>>>>>>>>>>>>> figure out print formatting\n",
    "print(\"The r-value is:\")\n",
    "print(rvalue)\n",
    "\n",
    "#Annotate LR, create labels, then print scatter plot w/ linear regress equation\n",
    "plt.scatter(south_hemi_df[\"Lat\"], south_hemi_df[\"Humidity\"])\n",
    "plt.plot(south_hemi_df[\"Lat\"], regress_values, \"r-\")\n",
    "plt.annotate(line_eq,(-24,37),fontsize=15,color=\"red\")\n",
    "plt.xlabel(\"Latitude\")\n",
    "plt.ylabel(\"Humidity (%)\")\n",
    "plt.title(\"Southern Hemisphere Cities Latitude vs. Humidity (%s)\" % time.strftime(\"%x\"))\n",
    "plt.savefig(\"output_data/south_lat_vs_humidity.png\")\n",
    "plt.show()"
   ]
  },
  {
   "cell_type": "code",
   "execution_count": 22,
   "metadata": {},
   "outputs": [],
   "source": [
    "#South Hemi Lat vs Humidity starter data"
   ]
  },
  {
   "cell_type": "markdown",
   "metadata": {},
   "source": [
    "####  Northern Hemisphere - Cloudiness (%) vs. Latitude Linear Regression"
   ]
  },
  {
   "cell_type": "code",
   "execution_count": 23,
   "metadata": {},
   "outputs": [
    {
     "name": "stdout",
     "output_type": "stream",
     "text": [
      "The r-value is:\n",
      "0.3594887472916307\n"
     ]
    },
    {
     "data": {
      "image/png": "[encoded data removed]",
      "text/plain": [
       "<Figure size 432x288 with 1 Axes>"
      ]
     },
     "metadata": {
      "needs_background": "light"
     },
     "output_type": "display_data"
    }
   ],
   "source": [
    "#Create linear regression to print on plot (need linregress from scipy.stats)\n",
    "(slope, intercept, rvalue, pvalue, stderr) = linregress(north_hemi_df[\"Lat\"], north_hemi_df[\"Cloudiness\"])\n",
    "regress_values = north_hemi_df[\"Lat\"] * slope + intercept\n",
    "line_eq = \"y = \" + str(round(slope,2)) + \"x + \" + str(round(intercept,2))\n",
    "\n",
    "#Print r-value >>>>>>>>>>>>>> figure out print formatting\n",
    "print(\"The r-value is:\")\n",
    "print(rvalue)\n",
    "\n",
    "#Annotate LR, create labels, then print scatter plot w/ linear regress equation\n",
    "plt.scatter(north_hemi_df[\"Lat\"], north_hemi_df[\"Cloudiness\"])\n",
    "plt.plot(north_hemi_df[\"Lat\"], regress_values, \"r-\")\n",
    "plt.annotate(line_eq,(34,10),fontsize=15,color=\"red\")\n",
    "plt.xlabel(\"Latitude\")\n",
    "plt.ylabel(\"Cloudiness\")\n",
    "plt.title(\"Northern Hemisphere Cities Latitude vs. Cloudiness (%s)\" % time.strftime(\"%x\"))\n",
    "plt.savefig(\"output_data/north_lat_vs_cloudiness.png\")\n",
    "plt.show()"
   ]
  },
  {
   "cell_type": "code",
   "execution_count": 24,
   "metadata": {},
   "outputs": [],
   "source": [
    "#North Hemi Lat vs Cloudiness starter data"
   ]
  },
  {
   "cell_type": "markdown",
   "metadata": {},
   "source": [
    "####  Southern Hemisphere - Cloudiness (%) vs. Latitude Linear Regression"
   ]
  },
  {
   "cell_type": "code",
   "execution_count": 25,
   "metadata": {},
   "outputs": [
    {
     "name": "stdout",
     "output_type": "stream",
     "text": [
      "The r-value is:\n",
      "0.2654030304362251\n"
     ]
    },
    {
     "data": {
      "image/png": "[encoded data removed]",
      "text/plain": [
       "<Figure size 432x288 with 1 Axes>"
      ]
     },
     "metadata": {
      "needs_background": "light"
     },
     "output_type": "display_data"
    }
   ],
   "source": [
    "#Create linear regression to print on plot (need linregress from scipy.stats)\n",
    "(slope, intercept, rvalue, pvalue, stderr) = linregress(south_hemi_df[\"Lat\"], south_hemi_df[\"Cloudiness\"])\n",
    "regress_values = south_hemi_df[\"Lat\"] * slope + intercept\n",
    "line_eq = \"y = \" + str(round(slope,2)) + \"x + \" + str(round(intercept,2))\n",
    "\n",
    "#Print r-value >>>>>>>>>>>>>> figure out print formatting\n",
    "print(\"The r-value is:\")\n",
    "print(rvalue)\n",
    "\n",
    "#Annotate LR, create labels, then print scatter plot w/ linear regress equation\n",
    "plt.scatter(south_hemi_df[\"Lat\"], south_hemi_df[\"Cloudiness\"])\n",
    "plt.plot(south_hemi_df[\"Lat\"], regress_values, \"r-\")\n",
    "plt.annotate(line_eq,(-55,82),fontsize=15,color=\"red\")\n",
    "plt.xlabel(\"Latitude\")\n",
    "plt.ylabel(\"Cloudiness\")\n",
    "plt.title(\"Northern Hemisphere Cities Latitude vs. Cloudiness (%s)\" % time.strftime(\"%x\"))\n",
    "plt.savefig(\"output_data/south_lat_vs_cloudiness.png\")\n",
    "plt.show()"
   ]
  },
  {
   "cell_type": "code",
   "execution_count": 26,
   "metadata": {},
   "outputs": [],
   "source": [
    "#South Hemi Lat vs Cloudiness starter data"
   ]
  },
  {
   "cell_type": "markdown",
   "metadata": {},
   "source": [
    "####  Northern Hemisphere - Wind Speed (mph) vs. Latitude Linear Regression"
   ]
  },
  {
   "cell_type": "code",
   "execution_count": 27,
   "metadata": {},
   "outputs": [
    {
     "name": "stdout",
     "output_type": "stream",
     "text": [
      "The r-value is:\n",
      "0.07426122112784152\n"
     ]
    },
    {
     "data": {
      "image/png": "[encoded data removed]",
      "text/plain": [
       "<Figure size 432x288 with 1 Axes>"
      ]
     },
     "metadata": {
      "needs_background": "light"
     },
     "output_type": "display_data"
    }
   ],
   "source": [
    "#Create linear regression to print on plot (need linregress from scipy.stats)\n",
    "(slope, intercept, rvalue, pvalue, stderr) = linregress(north_hemi_df[\"Lat\"], north_hemi_df[\"Wind Speed\"])\n",
    "regress_values = north_hemi_df[\"Lat\"] * slope + intercept\n",
    "line_eq = \"y = \" + str(round(slope,2)) + \"x + \" + str(round(intercept,2))\n",
    "\n",
    "#Print r-value >>>>>>>>>>>>>> figure out print formatting\n",
    "print(\"The r-value is:\")\n",
    "print(rvalue)\n",
    "\n",
    "#Annotate LR, create labels, then print scatter plot w/ linear regress equation\n",
    "plt.scatter(north_hemi_df[\"Lat\"], north_hemi_df[\"Wind Speed\"])\n",
    "plt.plot(north_hemi_df[\"Lat\"], regress_values, \"r-\")\n",
    "plt.annotate(line_eq,(5,33),fontsize=15,color=\"red\")\n",
    "plt.xlabel(\"Latitude\")\n",
    "plt.ylabel(\"Wind Speed (mph)\")\n",
    "plt.title(\"Northern Hemisphere Cities Latitude vs. Wind Speed (%s)\" % time.strftime(\"%x\"))\n",
    "plt.savefig(\"output_data/north_lat_vs_windspeed.png\")\n",
    "plt.show()"
   ]
  },
  {
   "cell_type": "code",
   "execution_count": 28,
   "metadata": {},
   "outputs": [],
   "source": [
    "#North Hemi Lat vs Wind Speed starter data"
   ]
  },
  {
   "cell_type": "markdown",
   "metadata": {},
   "source": [
    "####  Southern Hemisphere - Wind Speed (mph) vs. Latitude Linear Regression"
   ]
  },
  {
   "cell_type": "code",
   "execution_count": 29,
   "metadata": {},
   "outputs": [
    {
     "name": "stdout",
     "output_type": "stream",
     "text": [
      "The r-value is:\n",
      "-0.18045435044550806\n"
     ]
    },
    {
     "data": {
      "image/png": "[encoded data removed]",
      "text/plain": [
       "<Figure size 432x288 with 1 Axes>"
      ]
     },
     "metadata": {
      "needs_background": "light"
     },
     "output_type": "display_data"
    }
   ],
   "source": [
    "#Create linear regression to print on plot (need linregress from scipy.stats)\n",
    "(slope, intercept, rvalue, pvalue, stderr) = linregress(south_hemi_df[\"Lat\"], south_hemi_df[\"Wind Speed\"])\n",
    "regress_values = south_hemi_df[\"Lat\"] * slope + intercept\n",
    "line_eq = \"y = \" + str(round(slope,2)) + \"x + \" + str(round(intercept,2))\n",
    "\n",
    "#Print r-value >>>>>>>>>>>>>> figure out print formatting\n",
    "print(\"The r-value is:\")\n",
    "print(rvalue)\n",
    "\n",
    "#Annotate LR, create labels, then print scatter plot w/ linear regress equation\n",
    "plt.scatter(south_hemi_df[\"Lat\"], south_hemi_df[\"Wind Speed\"])\n",
    "plt.plot(south_hemi_df[\"Lat\"], regress_values, \"r-\")\n",
    "plt.annotate(line_eq,(-22,24),fontsize=15,color=\"red\")\n",
    "plt.xlabel(\"Latitude\")\n",
    "plt.ylabel(\"Wind Speed (mph)\")\n",
    "plt.title(\"Southern Hemisphere Cities Latitude vs. Wind Speed (%s)\" % time.strftime(\"%x\"))\n",
    "plt.savefig(\"output_data/south_lat_vs_windspeed.png\")\n",
    "plt.show()"
   ]
  },
  {
   "cell_type": "code",
   "execution_count": 30,
   "metadata": {},
   "outputs": [],
   "source": [
    "#South Hemi Lat vs Wind Speed starter data"
   ]
  },
  {
   "cell_type": "code",
   "execution_count": null,
   "metadata": {},
   "outputs": [],
   "source": []
  }
 ],
 "metadata": {
  "anaconda-cloud": {},
  "kernel_info": {
   "name": "python3"
  },
  "kernelspec": {
   "display_name": "Python 3",
   "language": "python",
   "name": "python3"
  },
  "language_info": {
   "codemirror_mode": {
    "name": "ipython",
    "version": 3
   },
   "file_extension": ".py",
   "mimetype": "text/x-python",
   "name": "python",
   "nbconvert_exporter": "python",
   "pygments_lexer": "ipython3",
   "version": "3.8.5"
  },
  "latex_envs": {
   "LaTeX_envs_menu_present": true,
   "autoclose": false,
   "autocomplete": true,
   "bibliofile": "biblio.bib",
   "cite_by": "apalike",
   "current_citInitial": 1,
   "eqLabelWithNumbers": true,
   "eqNumInitial": 1,
   "hotkeys": {
    "equation": "Ctrl-E",
    "itemize": "Ctrl-I"
   },
   "labels_anchors": false,
   "latex_user_defs": false,
   "report_style_numbering": false,
   "user_envs_cfg": false
  },
  "nteract": {
   "version": "0.12.3"
  }
 },
 "nbformat": 4,
 "nbformat_minor": 2
}
